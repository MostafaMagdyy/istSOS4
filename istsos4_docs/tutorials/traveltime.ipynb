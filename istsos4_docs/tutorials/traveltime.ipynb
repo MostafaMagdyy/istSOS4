{
 "cells": [
  {
   "cell_type": "markdown",
   "id": "09e8057a-1844-4c98-b513-620b2d30f177",
   "metadata": {},
   "source": [
    "# STA API time-travel extension\n",
    "This extension assists istSTA users in accessing historical time travel data. It enables users to retrieve information from a web service as it appeared at a specific moment in time, using a new query parameter called **as_of**.\n",
    "\n",
    "Additionally, it introduces a new entity called Commit, which enables data lineage, allowing users to trace data changes. \n",
    "From a scientific perspective, this extension enables FAIR data management by allowing datasets to be permanently cited. This is achieved by using a combination of the service address (<font color='red'>in red</font>), the request that returns the dataset (<font color='green'>in green</font>), and the dataset's status at a specific time instant (<font color='orange'>in orange</font>) as a Persistent Identifier for reference.\n",
    "\n",
    "Example: <font color='red'>https://&lt;base_url&gt;/&lt;version&gt;/</font><font color='green'>&lt;entity&gt;?$expand=&lt;entity&gt;</font><font color='orange'>&\\$as_of=&lt;date_time&gt;</font>\n",
    "\n",
    "## Definition\n",
    "The *time-travel* extension adds the following optional query parameters to any STA request:\n",
    "\n",
    "| Parameter | Type               | Description                                                                       |\n",
    "| --------- | ------------------ | --------------------------------------------------------------------------------- |\n",
    "| *as_of*   | ISO 8601 date-time | a date-time parameter to specify the exact moment for which the data is requested |\n",
    "| *from_to* | ISO 8601 period    | a period parameter to specify the time interval for which the data is requested   |\n",
    "\n",
    "The *time-travel* extension introduces a new entity, Commit, with the following properties:\n",
    "\n",
    "| Properties     | Type               | Multiplicity and use | Description                                                                    |\n",
    "| -------------- | ------------------ | -------------------- | ------------------------------------------------------------------------------ |\n",
    "| *author*       | string(128)        | One (mandatory)      | Authority, Username or User Profile Link                                       |\n",
    "| *encodingType* | string             | One (optional)       | The encoding type of the message (default is `text`).                          |\n",
    "| *message*      | string(256)        | One (mandatory)      | Commit message detailing the scope, motivation, and method of the transaction. |\n",
    "| *date*         | ISO 8601 date-time | One (mandatory)      | A date-time that specifies the exact moment when the commit was executed.      |\n",
    "\n",
    "Commits are related to SensorThings API entities with a one-to-zero-or-one (1:0..1) relationship."
   ]
  },
  {
   "cell_type": "markdown",
   "id": "671193ce-a969-4dbb-a5b1-1b212af733f4",
   "metadata": {},
   "source": [
    "### Preliminary Steps\n",
    "\n",
    "This section contains the preliminary steps to set up the base URL, headers, and import necessary libraries."
   ]
  },
  {
   "cell_type": "code",
   "execution_count": null,
   "id": "f124ebf0-10de-4db0-962b-1a7947d72c7d",
   "metadata": {},
   "outputs": [],
   "source": [
    "import requests\n",
    "import json\n",
    "import re\n",
    "import istsos4_utils as st\n",
    "from IPython.display import display, Markdown\n",
    "from datetime import datetime, timedelta\n",
    "import matplotlib.pyplot as plt\n",
    "import matplotlib.dates as mdates\n",
    "import numpy as np\n",
    "\n",
    "# base url\n",
    "base_url = \"http://api:5000/istsos4/v1.1/\"\n",
    "\n",
    "# Headers (optional, but specifying Content-Type ensures proper handling of JSON data)\n",
    "headers = {\n",
    "    'Content-Type': 'application/json'\n",
    "}\n",
    "\n",
    "meteo = st.sta(base_url)"
   ]
  },
  {
   "cell_type": "markdown",
   "id": "cc7b578a-b6fd-49d2-98e9-9e5bb4566fbc",
   "metadata": {},
   "source": [
    "### Creating multiple related entities with deep insert"
   ]
  },
  {
   "cell_type": "code",
   "execution_count": null,
   "id": "a768f48a-c970-4434-b8cc-2fcea4d258f8",
   "metadata": {},
   "outputs": [],
   "source": [
    "body = {\n",
    "    \"description\": \"Water level, water temperature and water electrical conductivity recorder Ticino river\",\n",
    "    \"name\": \"FIU_VAL\",\n",
    "    \"properties\": {\n",
    "        \"keywords\": \"water,river,height,temperature,conductivity,ACSOT\",\n",
    "        \"description\": \"River level, water temperature and water electrical conductivity fiume Ticino valle\"\n",
    "    },\n",
    "    \"Locations\": [\n",
    "        {\n",
    "            \"description\": \"\",\n",
    "            \"name\": \"fiume Ticino valle\",\n",
    "            \"location\": {\n",
    "                \"type\": \"Point\",\n",
    "                \"coordinates\": [\n",
    "                    8.956099,\n",
    "                    46.172245\n",
    "                ]\n",
    "            },\n",
    "            \"encodingType\": \"application/vnd.geo+json\"\n",
    "        }\n",
    "    ],\n",
    "    \"Datastreams\": [\n",
    "        {\n",
    "            \"unitOfMeasurement\": {\n",
    "                \"name\": \"Celsius degree\",\n",
    "                \"symbol\": \"°C\",\n",
    "                \"definition\": \"\"\n",
    "            },\n",
    "            \"description\": \"\",\n",
    "            \"name\": \"WT_FIU_VAL\",\n",
    "            \"observationType\": \"\",\n",
    "            \"ObservedProperty\": {\n",
    "                \"name\": \"ground:water:temperature\",\n",
    "                \"definition\": \"\",\n",
    "                \"description\": \"Ground water temperature\"\n",
    "            },\n",
    "            \"Sensor\": {\n",
    "                \"description\": \"\",\n",
    "                \"name\": \"Ecolog 1000\",\n",
    "                \"encodingType\": \"application/json\",\n",
    "                \"metadata\": '{\"brand\": \"OTT\", \"type\": \"Pressure, temperature, electrical conductivity sensor\"}'\n",
    "            },\n",
    "            \"Observations\": [\n",
    "                { \"result\": 23.7, \"phenomenonTime\": \"2024-09-27T17:00:00\", \"resultQuality\": \"100\"},\n",
    "                { \"result\": 23.7, \"phenomenonTime\": \"2024-09-27T17:10:00\", \"resultQuality\": \"100\"},\n",
    "                { \"result\": 23.7, \"phenomenonTime\": \"2024-09-27T17:20:00\", \"resultQuality\": \"100\"},\n",
    "                { \"result\": 23.7, \"phenomenonTime\": \"2024-09-27T17:30:00\", \"resultQuality\": \"100\"},\n",
    "                { \"result\": 23.7, \"phenomenonTime\": \"2024-09-27T17:40:00\", \"resultQuality\": \"100\"},\n",
    "                { \"result\": 23.7, \"phenomenonTime\": \"2024-09-27T17:50:00\", \"resultQuality\": \"100\"},\n",
    "                { \"result\": 23.7, \"phenomenonTime\": \"2024-09-27T18:00:00\", \"resultQuality\": \"100\"},\n",
    "                { \"result\": 32.8, \"phenomenonTime\": \"2024-09-27T18:10:00\", \"resultQuality\": \"313\"},\n",
    "                { \"result\": 23.8, \"phenomenonTime\": \"2024-09-27T18:20:00\", \"resultQuality\": \"100\"},\n",
    "                { \"result\": 23.8, \"phenomenonTime\": \"2024-09-27T18:30:00\", \"resultQuality\": \"100\"},\n",
    "                { \"result\": 23.8, \"phenomenonTime\": \"2024-09-27T18:40:00\", \"resultQuality\": \"100\"},\n",
    "                { \"result\": 23.8, \"phenomenonTime\": \"2024-09-27T18:50:00\", \"resultQuality\": \"100\"},\n",
    "                { \"result\": 23.8, \"phenomenonTime\": \"2024-09-27T19:00:00\", \"resultQuality\": \"100\"},\n",
    "                { \"result\": 23.8, \"phenomenonTime\": \"2024-09-27T19:10:00\", \"resultQuality\": \"100\"},\n",
    "                { \"result\": 23.8, \"phenomenonTime\": \"2024-09-27T19:20:00\", \"resultQuality\": \"100\"},\n",
    "                { \"result\": 23.8, \"phenomenonTime\": \"2024-09-27T19:30:00\", \"resultQuality\": \"100\"},\n",
    "                { \"result\": 23.8, \"phenomenonTime\": \"2024-09-27T19:40:00\", \"resultQuality\": \"100\"},\n",
    "                { \"result\": 23.8, \"phenomenonTime\": \"2024-09-27T19:50:00\", \"resultQuality\": \"100\"},\n",
    "                { \"result\": 23.8, \"phenomenonTime\": \"2024-09-27T20:00:00\", \"resultQuality\": \"100\"},\n",
    "                { \"result\": 23.8, \"phenomenonTime\": \"2024-09-27T20:10:00\", \"resultQuality\": \"100\"},\n",
    "            ]\n",
    "        }\n",
    "    ]\n",
    "}\n",
    "\n",
    "# POST request with the JSON body\n",
    "response = requests.post(base_url + 'Things', data=json.dumps(body), headers=headers)\n",
    "\n",
    "# Check if the request was successful (status code 2xx)\n",
    "if response.status_code == 201:\n",
    "    print(f\"Thing created successfully ({response.headers['location']})\")\n",
    "else:\n",
    "    print(f\"Error: {response.status_code}\")\n",
    "    print(response.text)\n",
    "\n",
    "# Let's get the Thing @iot.id using a regex to extract the number in parentheses\n",
    "match = re.search(r'\\((\\d+)\\)', response.headers['location'])\n",
    "if match:\n",
    "    thing_id = int(match.group(1))\n",
    "else:\n",
    "    print(\"No number found in parentheses.\")"
   ]
  },
  {
   "cell_type": "markdown",
   "id": "93c56546-311d-4c33-b012-c2cf2da1cb41",
   "metadata": {},
   "source": [
    "### Update with time-travel extension"
   ]
  },
  {
   "cell_type": "markdown",
   "id": "15a2e5e9-8efc-41f8-8492-cc56b55963ff",
   "metadata": {},
   "source": [
    "#### Retrieve Thing (With the as_of value set to the date of the request)"
   ]
  },
  {
   "cell_type": "code",
   "execution_count": null,
   "id": "93c85e63-534f-4fef-aebf-89045ae5bdf2",
   "metadata": {},
   "outputs": [],
   "source": [
    "response = requests.get(f\"{base_url}Things({thing_id})\")\n",
    "json_data = json.dumps(response.json(), indent=2)\n",
    "md = f\"```json\\n{json_data}\\n```\"\n",
    "display(Markdown(md))"
   ]
  },
  {
   "cell_type": "markdown",
   "id": "7b397ede-dbc6-4926-a2ae-28b5b3e9ceff",
   "metadata": {},
   "source": [
    "#### Update Thing"
   ]
  },
  {
   "cell_type": "code",
   "execution_count": null,
   "id": "f740ef2c-6f70-4ae9-b98e-f49c8faf085d",
   "metadata": {},
   "outputs": [],
   "source": [
    "body = {\n",
    "    \"description\": \"(UPDATED) Water level, water temperature and water electrical conductivity recorder Ticino river\",\n",
    "    \"name\": \"(UPDATED) FIU_VAL\",\n",
    "    \"Commit\": {\n",
    "        \"author\": \"YOUR NAME\",\n",
    "        \"message\": \"update name and description\",\n",
    "    }\n",
    "}\n",
    "\n",
    "# POST request with the JSON body\n",
    "response = requests.patch(base_url + f\"Things({thing_id})\", data=json.dumps(body))\n",
    "\n",
    "# Check if the request was successful (status code 2xx)\n",
    "if response.status_code == 200:\n",
    "    print(f\"Thing {thing_id} updated successfully\")\n",
    "else:\n",
    "    print(f\"Error: {response.status_code}\")\n",
    "    print(response.text)\n",
    "\n",
    "datetime_update = datetime.now() - timedelta(seconds=1)\n",
    "datetime_update = datetime_update.strftime(\"%Y-%m-%dT%H:%M:%S.%f\")"
   ]
  },
  {
   "cell_type": "markdown",
   "id": "745c5911-cbf3-40b7-803d-b2e0746e4c1a",
   "metadata": {},
   "source": [
    "#### Retrieve Thing (With the as_of value set to the date of the request)"
   ]
  },
  {
   "cell_type": "code",
   "execution_count": null,
   "id": "91f4fa0b-9a1c-436e-b712-e9e1b5a015c9",
   "metadata": {},
   "outputs": [],
   "source": [
    "response = requests.get(f\"{base_url}Things({thing_id})?$expand=Commit\")\n",
    "json_data = json.dumps(response.json(), indent=2)\n",
    "md = f\"```json\\n{json_data}\\n```\"\n",
    "display(Markdown(md))"
   ]
  },
  {
   "cell_type": "markdown",
   "id": "10f73246-17e5-4da2-8e7f-78a65d4d9b73",
   "metadata": {},
   "source": [
    "#### Retrieve Thing at a specific instant (with the as_of value set to one second prior to the update date)"
   ]
  },
  {
   "cell_type": "code",
   "execution_count": null,
   "id": "26070c20-71e3-4005-96c2-d3346f7701a0",
   "metadata": {},
   "outputs": [],
   "source": [
    "response = requests.get(f\"{base_url}Things({thing_id})?$expand=Commit&$as_of={datetime_update}\")\n",
    "json_data = json.dumps(response.json(), indent=2)\n",
    "md = f\"```json\\n{json_data}\\n```\"\n",
    "display(Markdown(md))"
   ]
  },
  {
   "cell_type": "markdown",
   "id": "05bf2141-78fd-4c87-a52a-3d71143b1335",
   "metadata": {},
   "source": [
    "#### Plot Observations before update"
   ]
  },
  {
   "cell_type": "code",
   "execution_count": null,
   "id": "b090686f-a6f3-4317-ba43-7cbdab3dad8f",
   "metadata": {},
   "outputs": [],
   "source": [
    "response = requests.get(f\"{base_url}Thing({thing_id})/Datastreams/Observations\")\n",
    "json_data = json.dumps(response.json(), indent=2)\n",
    "\n",
    "# Parse the JSON data\n",
    "data = json.loads(json_data)\n",
    "\n",
    "# Extract the phenomenon times and results\n",
    "phenomenon_times = [datetime.strptime(obs[\"phenomenonTime\"], \"%Y-%m-%dT%H:%M:%S%z\") for obs in data[\"value\"]]\n",
    "results = [obs[\"result\"] for obs in data[\"value\"]]\n",
    "\n",
    "# Plotting the results\n",
    "plt.figure(figsize=(12, 7))  # Increase figure size for better visibility\n",
    "\n",
    "# Customize the plot with better aesthetics\n",
    "plt.plot(phenomenon_times, results, marker='o', markersize=8, linestyle='-', color='#1D4E89', label=\"Water Temperature\", linewidth=2)\n",
    "\n",
    "# Formatting the x-axis to show dates and times properly\n",
    "plt.gca().xaxis.set_major_formatter(mdates.DateFormatter('%Y-%m-%d %H:%M'))\n",
    "plt.gca().xaxis.set_major_locator(mdates.HourLocator(interval=1))\n",
    "plt.gcf().autofmt_xdate()\n",
    "\n",
    "# Adding a grid with better styling\n",
    "plt.grid(True, which='both', linestyle='--', linewidth=0.6, color='gray', alpha=0.7)\n",
    "\n",
    "# Adding labels and title with enhanced fonts\n",
    "plt.title('Water Temperature Over Time', fontsize=16, fontweight='bold', color='#264653')\n",
    "plt.xlabel('Phenomenon Time', fontsize=14, fontweight='bold', color='#264653')\n",
    "plt.ylabel('Temperature (°C)', fontsize=14, fontweight='bold', color='#264653')\n",
    "\n",
    "# Adding a legend\n",
    "plt.legend(loc='upper left', fontsize=12)\n",
    "\n",
    "# Adding custom ticks on the y-axis\n",
    "plt.yticks(fontsize=12)\n",
    "\n",
    "# Tight layout for better spacing\n",
    "plt.tight_layout()\n",
    "\n",
    "# Show the plot\n",
    "plt.show()"
   ]
  },
  {
   "cell_type": "markdown",
   "id": "7f2ed204-6dae-41c5-848b-62071dd79510",
   "metadata": {},
   "source": [
    "#### Retrieve Observation outlier (Interquartile Range method)"
   ]
  },
  {
   "cell_type": "code",
   "execution_count": null,
   "id": "822026b3-359f-4cf0-ad57-2539d428da06",
   "metadata": {},
   "outputs": [],
   "source": [
    "# Convert the results (temperatures) to a NumPy array for calculations\n",
    "results = np.array([obs[\"result\"] for obs in data[\"value\"]])\n",
    "\n",
    "# Calculate Q1 (25th percentile) and Q3 (75th percentile)\n",
    "Q1 = np.percentile(results, 25)\n",
    "Q3 = np.percentile(results, 75)\n",
    "\n",
    "# Compute the Interquartile Range (IQR)\n",
    "IQR = Q3 - Q1\n",
    "\n",
    "# Define the bounds for detecting outliers\n",
    "lower_bound = Q1 - 1.5 * IQR\n",
    "upper_bound = Q3 + 1.5 * IQR\n",
    "\n",
    "# Identify the outliers\n",
    "outliers_info = [(i, obs[\"@iot.id\"], obs[\"result\"]) for i, obs in enumerate(data[\"value\"]) if obs[\"result\"] < lower_bound or obs[\"result\"] > upper_bound]\n",
    "outliers = [(info[1], info[2]) for info in outliers_info]\n",
    "outlier_indices = [info[0] for info in outliers_info]\n",
    "\n",
    "# Display the IDs and corresponding outlier values\n",
    "print(\"Outliers (ID, Temperature):\", outliers)\n",
    "observation_id = outliers[0][0]"
   ]
  },
  {
   "cell_type": "markdown",
   "id": "67379f97-eafa-4abe-b7e2-83b95717509e",
   "metadata": {},
   "source": [
    "#### Retrieve Observation outlier (Z-score method)"
   ]
  },
  {
   "cell_type": "code",
   "execution_count": null,
   "id": "5f31824d-0954-43b2-893a-3fc4a25ca349",
   "metadata": {},
   "outputs": [],
   "source": [
    "# Convert the results (temperatures) to a NumPy array for calculations\n",
    "results = np.array([obs[\"result\"] for obs in data[\"value\"]])\n",
    "\n",
    "# Calculate mean and standard deviation\n",
    "mean = np.mean(results)\n",
    "std_dev = np.std(results)\n",
    "\n",
    "# Calculate z-scores\n",
    "z_scores = (results - mean) / std_dev\n",
    "\n",
    "# Define the threshold for identifying outliers\n",
    "threshold = 3\n",
    "\n",
    "# Identify the outliers\n",
    "outliers_info = [(i, obs[\"@iot.id\"], obs[\"result\"]) for i, (obs, z) in enumerate(zip(data[\"value\"], z_scores)) if abs(z) > threshold]\n",
    "outliers = [(info[1], info[2]) for info in outliers_info]\n",
    "outlier_indices = [info[0] for info in outliers_info]\n",
    "\n",
    "# Display the IDs and corresponding outlier values\n",
    "print(\"Outliers (ID, Temperature):\", outliers)\n",
    "observation_id = outliers[0][0]"
   ]
  },
  {
   "cell_type": "markdown",
   "id": "abff185d-24bf-4907-8746-0a9a69ce7683",
   "metadata": {},
   "source": [
    "#### Update Observation outlier"
   ]
  },
  {
   "cell_type": "code",
   "execution_count": null,
   "id": "d2aa154f-2f7e-4d55-a89f-febac7a2b34b",
   "metadata": {},
   "outputs": [],
   "source": [
    "new_result = (results[outlier_indices[0] - 1] + results[outlier_indices[0] + 1]) / 2\n",
    "\n",
    "body = {\n",
    "    \"result\": new_result,\n",
    "    \"resultQuality\": \"100\",\n",
    "    \"Commit\": {\n",
    "        \"author\": \"Your Name\",\n",
    "        \"message\": \"update result\",\n",
    "    }\n",
    "}\n",
    "\n",
    "# POST request with the JSON body\n",
    "response = requests.patch(base_url + f\"Observations({observation_id})\", data=json.dumps(body))\n",
    "\n",
    "# Check if the request was successful (status code 2xx)\n",
    "if response.status_code == 200:\n",
    "    print(f\"Observation {observation_id} updated successfully\")\n",
    "else:\n",
    "    print(f\"Error: {response.status_code}\")\n",
    "    print(response.text)\n",
    "\n",
    "datetime_update = datetime.now()"
   ]
  },
  {
   "cell_type": "markdown",
   "id": "c1b49fb1-43fc-4c5c-930b-167a33c6619d",
   "metadata": {},
   "source": [
    "#### Retrieve Observation outlier after update"
   ]
  },
  {
   "cell_type": "code",
   "execution_count": null,
   "id": "9b0e88ab-6923-4f48-bea3-78b6281b72e9",
   "metadata": {},
   "outputs": [],
   "source": [
    "response = requests.get(f\"{base_url}Observations({observation_id})?$expand=Commit\")\n",
    "json_data = json.dumps(response.json(), indent=2)\n",
    "md = f\"```json\\n{json_data}\\n```\"\n",
    "display(Markdown(md))"
   ]
  },
  {
   "cell_type": "markdown",
   "id": "7e37485d-e5c7-4ae8-8e16-0829b5ea855c",
   "metadata": {},
   "source": [
    "#### Retrieve Observation outlier at a specific instant (with the as_of value set to one second prior to the update date)"
   ]
  },
  {
   "cell_type": "code",
   "execution_count": null,
   "id": "966afc6c-b203-4038-9c58-9549a312a8a8",
   "metadata": {},
   "outputs": [],
   "source": [
    "datetime_before_update = datetime_update - timedelta(seconds=1)\n",
    "datetime_before_update = datetime_before_update.strftime(\"%Y-%m-%dT%H:%M:%S.%f\")\n",
    "datetime_update = datetime_update.strftime(\"%Y-%m-%dT%H:%M:%S.%f\")\n",
    "response = requests.get(f\"{base_url}Observations({observation_id})?$expand=Commit&$as_of={datetime_before_update}\")\n",
    "json_data = json.dumps(response.json(), indent=2)\n",
    "md = f\"```json\\n{json_data}\\n```\"\n",
    "display(Markdown(md))"
   ]
  },
  {
   "cell_type": "markdown",
   "id": "4391d754-9786-4784-9bb9-896d6c4460fc",
   "metadata": {},
   "source": [
    "#### Plot Observations after update"
   ]
  },
  {
   "cell_type": "code",
   "execution_count": null,
   "id": "c9c34336-e040-4e0d-b87f-8e30072200a0",
   "metadata": {},
   "outputs": [],
   "source": [
    "response = requests.get(f\"{base_url}Thing({thing_id})/Datastreams/Observations\")\n",
    "json_data = json.dumps(response.json(), indent=2)\n",
    "\n",
    "# Parse the JSON data\n",
    "data = json.loads(json_data)\n",
    "\n",
    "# Extract the phenomenon times and results\n",
    "phenomenon_times = [datetime.strptime(obs[\"phenomenonTime\"], \"%Y-%m-%dT%H:%M:%S%z\") for obs in data[\"value\"]]\n",
    "results = [obs[\"result\"] for obs in data[\"value\"]]\n",
    "\n",
    "# Plotting the results\n",
    "plt.figure(figsize=(12, 7))  # Increase figure size for better visibility\n",
    "\n",
    "# Customize the plot with better aesthetics\n",
    "plt.plot(phenomenon_times, results, marker='o', markersize=8, linestyle='-', color='#1D4E89', label=\"Water Temperature\", linewidth=2)\n",
    "\n",
    "# Formatting the x-axis to show dates and times properly\n",
    "plt.gca().xaxis.set_major_formatter(mdates.DateFormatter('%Y-%m-%d %H:%M'))\n",
    "plt.gca().xaxis.set_major_locator(mdates.HourLocator(interval=1))\n",
    "plt.gcf().autofmt_xdate()\n",
    "\n",
    "# Adding a grid with better styling\n",
    "plt.grid(True, which='both', linestyle='--', linewidth=0.6, color='gray', alpha=0.7)\n",
    "\n",
    "# Adding labels and title with enhanced fonts\n",
    "plt.title('Water Temperature Over Time', fontsize=16, fontweight='bold', color='#264653')\n",
    "plt.xlabel('Phenomenon Time', fontsize=14, fontweight='bold', color='#264653')\n",
    "plt.ylabel('Temperature (°C)', fontsize=14, fontweight='bold', color='#264653')\n",
    "\n",
    "# Adding a legend\n",
    "plt.legend(loc='upper left', fontsize=12)\n",
    "\n",
    "# Adding custom ticks on the y-axis\n",
    "plt.yticks(fontsize=12)\n",
    "\n",
    "# Tight layout for better spacing\n",
    "plt.tight_layout()\n",
    "\n",
    "# Show the plot\n",
    "plt.show()"
   ]
  },
  {
   "cell_type": "markdown",
   "id": "bbec0322-84b5-4259-8154-9c4f62a7bf93",
   "metadata": {},
   "source": [
    "#### Retrieve Observation outlier within a time interval (between the date prior to the update and the date following it)"
   ]
  },
  {
   "cell_type": "code",
   "execution_count": null,
   "id": "41f2c42f-08ee-45ed-a562-b530d9981afc",
   "metadata": {},
   "outputs": [],
   "source": [
    "response = requests.get(f\"{base_url}Observations?$filter=id eq {observation_id}&$from_to={datetime_before_update}, {datetime_update}\")\n",
    "json_data = json.dumps(response.json(), indent=2)\n",
    "md = f\"```json\\n{json_data}\\n```\"\n",
    "display(Markdown(md))"
   ]
  }
 ],
 "metadata": {
  "kernelspec": {
   "display_name": "Python 3 (ipykernel)",
   "language": "python",
   "name": "python3"
  },
  "language_info": {
   "codemirror_mode": {
    "name": "ipython",
    "version": 3
   },
   "file_extension": ".py",
   "mimetype": "text/x-python",
   "name": "python",
   "nbconvert_exporter": "python",
   "pygments_lexer": "ipython3",
   "version": "3.12.7"
  }
 },
 "nbformat": 4,
 "nbformat_minor": 5
}
