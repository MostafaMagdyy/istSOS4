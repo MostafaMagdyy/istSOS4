{
 "cells": [
  {
   "cell_type": "markdown",
   "metadata": {},
   "source": [
    "### Preliminary Steps\n",
    "\n",
    "This section contains the preliminary steps to set up the base URL, headers, and import necessary libraries."
   ]
  },
  {
   "cell_type": "code",
   "execution_count": null,
   "metadata": {},
   "outputs": [],
   "source": [
    "import requests\n",
    "import json\n",
    "from IPython.display import display, Markdown\n",
    "\n",
    "url = \"http://localhost:8018/istsos4/v1.1\""
   ]
  },
  {
   "cell_type": "markdown",
   "metadata": {},
   "source": [
    "### Login"
   ]
  },
  {
   "cell_type": "code",
   "execution_count": null,
   "metadata": {},
   "outputs": [],
   "source": [
    "# username = input(\"Enter your username: \")\n",
    "# password = input(\"Enter your password: \")\n",
    "\n",
    "data = {\n",
    "    \"username\": \"carol_williams\",\n",
    "    \"password\": \"P@ssword789\",\n",
    "    \"grant_type\": \"password\",\n",
    "}\n",
    "\n",
    "response = requests.post(url + \"/Login\", data=data)\n",
    "token = response.json()[\"access_token\"]\n",
    "result = json.dumps(response.json(), indent=4)\n",
    "display(Markdown(f\"```json\\n{result}\\n```\"))"
   ]
  },
  {
   "cell_type": "markdown",
   "metadata": {},
   "source": [
    "### Retrieve data\n",
    "#### Real token"
   ]
  },
  {
   "cell_type": "code",
   "execution_count": null,
   "metadata": {},
   "outputs": [],
   "source": [
    "response = requests.get(\n",
    "    url + \"/Things\", headers={\"Authorization\": f\"Bearer {token}\"}\n",
    ")\n",
    "result = json.dumps(response.json(), indent=2)\n",
    "display(Markdown(f\"```json\\n{result}\\n```\"))"
   ]
  },
  {
   "cell_type": "markdown",
   "metadata": {},
   "source": [
    "#### Fake token"
   ]
  },
  {
   "cell_type": "code",
   "execution_count": null,
   "metadata": {},
   "outputs": [],
   "source": [
    "fake_token = 1234567890\n",
    "response = requests.get(\n",
    "    url + \"/Things\", headers={\"Authorization\": f\"Bearer {fake_token}\"}\n",
    ")\n",
    "result = json.dumps(response.json(), indent=2)\n",
    "display(Markdown(f\"```json\\n{result}\\n```\"))"
   ]
  }
 ],
 "metadata": {
  "kernelspec": {
   "display_name": "Python 3",
   "language": "python",
   "name": "python3"
  },
  "language_info": {
   "codemirror_mode": {
    "name": "ipython",
    "version": 3
   },
   "file_extension": ".py",
   "mimetype": "text/x-python",
   "name": "python",
   "nbconvert_exporter": "python",
   "pygments_lexer": "ipython3",
   "version": "3.10.12"
  }
 },
 "nbformat": 4,
 "nbformat_minor": 2
}
