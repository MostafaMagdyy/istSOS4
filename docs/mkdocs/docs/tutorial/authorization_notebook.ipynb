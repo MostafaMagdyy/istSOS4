{
 "cells": [
  {
   "cell_type": "markdown",
   "metadata": {},
   "source": [
    "# Managing Authentication & Authorization<br>Hands-On Example (Python)\n",
    "### Preliminary Steps\n",
    "\n",
    "This section contains the preliminary steps to set up the base URL and import necessary libraries."
   ]
  },
  {
   "cell_type": "code",
   "execution_count": null,
   "metadata": {},
   "outputs": [],
   "source": [
    "import datetime\n",
    "import json\n",
    "import random\n",
    "\n",
    "import requests\n",
    "from IPython.display import Markdown, display\n",
    "\n",
    "url = \"http://localhost:8018/istsos4/v1.1\""
   ]
  },
  {
   "cell_type": "markdown",
   "metadata": {},
   "source": [
    "### Login as viewer (Authentication)"
   ]
  },
  {
   "cell_type": "code",
   "execution_count": null,
   "metadata": {},
   "outputs": [],
   "source": [
    "username = input(\"Enter your username: \")\n",
    "password = input(\"Enter your password: \")\n",
    "\n",
    "if not username or not password:\n",
    "    print(\"Username or password is empty\")\n",
    "\n",
    "else:\n",
    "    data = {\n",
    "        \"username\": username,\n",
    "        \"password\": password,\n",
    "        \"grant_type\": \"password\",\n",
    "    }\n",
    "\n",
    "    response = requests.post(url + \"/Login\", data=data)\n",
    "    if response.status_code == 200:\n",
    "        token = response.json()[\"access_token\"]\n",
    "        result = json.dumps(response.json(), indent=2)\n",
    "        display(Markdown(f\"```json\\n{result}\\n```\"))\n",
    "    else:\n",
    "        result = json.dumps(response.json(), indent=2)\n",
    "        display(Markdown(f\"```json\\n{result}\\n```\"))"
   ]
  },
  {
   "cell_type": "markdown",
   "metadata": {},
   "source": [
    "#### Retrieve data (Authorization)"
   ]
  },
  {
   "cell_type": "markdown",
   "metadata": {},
   "source": [
    "##### Retrieve a Datastream"
   ]
  },
  {
   "cell_type": "code",
   "execution_count": null,
   "metadata": {},
   "outputs": [],
   "source": [
    "response = requests.get(\n",
    "    url + \"/Datastreams?$select=id\",\n",
    "    headers={\"Authorization\": f\"Bearer {token}\"},\n",
    ")\n",
    "result = [item[\"@iot.id\"] for item in response.json()[\"value\"]]\n",
    "datastream_id = random.choice(result)\n",
    "print(f\"Datastream ID: {datastream_id}\")"
   ]
  },
  {
   "cell_type": "markdown",
   "metadata": {},
   "source": [
    "##### Retrieve Observations for the selected Datastream"
   ]
  },
  {
   "cell_type": "code",
   "execution_count": null,
   "metadata": {},
   "outputs": [],
   "source": [
    "response = requests.get(\n",
    "    url + f\"/Datastreams({datastream_id})/Observations?$expand=Commit\",\n",
    "    headers={\"Authorization\": f\"Bearer {token}\"},\n",
    ")\n",
    "result = json.dumps(response.json(), indent=2)\n",
    "display(Markdown(f\"```json\\n{result}\\n```\"))"
   ]
  },
  {
   "cell_type": "markdown",
   "metadata": {},
   "source": [
    "#### Create data (Authorization)"
   ]
  },
  {
   "cell_type": "markdown",
   "metadata": {},
   "source": [
    "##### Create Observation for the selected Datastream"
   ]
  },
  {
   "cell_type": "code",
   "execution_count": null,
   "metadata": {},
   "outputs": [],
   "source": [
    "observation = {\n",
    "    \"phenomenonTime\": datetime.datetime.now().isoformat(),\n",
    "    \"result\": random.random(),\n",
    "    \"Datastream\": {\"@iot.id\": datastream_id},\n",
    "}\n",
    "\n",
    "response = requests.post(\n",
    "    url + \"/Observations\",\n",
    "    headers={\n",
    "        \"Content-type\": \"application/json\",\n",
    "        \"Authorization\": f\"Bearer {token}\",\n",
    "        \"Commit-message\": f\"Add observation to datastream {datastream_id}\",\n",
    "    },\n",
    "    json=observation,\n",
    ")\n",
    "if response.status_code == 201:\n",
    "    print(\"Observations created successfully: \", response.headers[\"location\"])\n",
    "else:\n",
    "    result = json.dumps(response.json(), indent=2)\n",
    "    display(Markdown(f\"```json\\n{result}\\n```\"))"
   ]
  },
  {
   "cell_type": "markdown",
   "metadata": {},
   "source": [
    "### Login as editor (Authentication)"
   ]
  },
  {
   "cell_type": "code",
   "execution_count": null,
   "metadata": {},
   "outputs": [],
   "source": [
    "username = input(\"Enter your username: \")\n",
    "password = input(\"Enter your password: \")\n",
    "\n",
    "if not username or not password:\n",
    "    print(\"Username or password is empty\")\n",
    "\n",
    "else:\n",
    "    data = {\n",
    "        \"username\": username,\n",
    "        \"password\": password,\n",
    "        \"grant_type\": \"password\",\n",
    "    }\n",
    "\n",
    "    response = requests.post(url + \"/Login\", data=data)\n",
    "    if response.status_code == 200:\n",
    "        token = response.json()[\"access_token\"]\n",
    "        result = json.dumps(response.json(), indent=2)\n",
    "        display(Markdown(f\"```json\\n{result}\\n```\"))\n",
    "    else:\n",
    "        result = json.dumps(response.json(), indent=2)\n",
    "        display(Markdown(f\"```json\\n{result}\\n```\"))"
   ]
  },
  {
   "cell_type": "markdown",
   "metadata": {},
   "source": [
    "#### Retrieve data (Authorization)"
   ]
  },
  {
   "cell_type": "markdown",
   "metadata": {},
   "source": [
    "##### Retrieve a Datastream"
   ]
  },
  {
   "cell_type": "code",
   "execution_count": null,
   "metadata": {},
   "outputs": [],
   "source": [
    "response = requests.get(\n",
    "    url + \"/Datastreams?$select=id\",\n",
    "    headers={\"Authorization\": f\"Bearer {token}\"},\n",
    ")\n",
    "result = [item[\"@iot.id\"] for item in response.json()[\"value\"]]\n",
    "datastream_id = random.choice(result)\n",
    "print(f\"Datastream ID: {datastream_id}\")"
   ]
  },
  {
   "cell_type": "markdown",
   "metadata": {},
   "source": [
    "##### Retrieve Observations for the selected Datastream"
   ]
  },
  {
   "cell_type": "code",
   "execution_count": null,
   "metadata": {},
   "outputs": [],
   "source": [
    "response = requests.get(\n",
    "    url + f\"/Datastreams({datastream_id})/Observations?$expand=Commit\",\n",
    "    headers={\"Authorization\": f\"Bearer {token}\"},\n",
    ")\n",
    "result = json.dumps(response.json(), indent=2)\n",
    "display(Markdown(f\"```json\\n{result}\\n```\"))"
   ]
  },
  {
   "cell_type": "markdown",
   "metadata": {},
   "source": [
    "#### Create data (Authorization)"
   ]
  },
  {
   "cell_type": "markdown",
   "metadata": {},
   "source": [
    "##### Create Observation for the selected Datastream"
   ]
  },
  {
   "cell_type": "code",
   "execution_count": null,
   "metadata": {},
   "outputs": [],
   "source": [
    "observation = {\n",
    "    \"phenomenonTime\": datetime.datetime.now().isoformat(),\n",
    "    \"result\": random.random(),\n",
    "    \"Datastream\": {\"@iot.id\": datastream_id},\n",
    "}\n",
    "\n",
    "response = requests.post(\n",
    "    url + \"/Observations\",\n",
    "    headers={\n",
    "        \"Content-type\": \"application/json\",\n",
    "        \"Authorization\": f\"Bearer {token}\",\n",
    "        \"Commit-message\": f\"Add observation to datastream {datastream_id}\",\n",
    "    },\n",
    "    json=observation,\n",
    ")\n",
    "if response.status_code == 201:\n",
    "    print(\"Observations created successfully: \", response.headers[\"location\"])\n",
    "    response = requests.get(\n",
    "        url + \"/Datastreams(1)/Observations\",\n",
    "        headers={\"Authorization\": f\"Bearer {token}\"},\n",
    "    )\n",
    "    result = json.dumps(response.json(), indent=2)\n",
    "    display(Markdown(f\"```json\\n{result}\\n```\"))\n",
    "else:\n",
    "    result = json.dumps(response.json(), indent=2)"
   ]
  }
 ],
 "metadata": {
  "kernelspec": {
   "display_name": "Python 3",
   "language": "python",
   "name": "python3"
  },
  "language_info": {
   "codemirror_mode": {
    "name": "ipython",
    "version": 3
   },
   "file_extension": ".py",
   "mimetype": "text/x-python",
   "name": "python",
   "nbconvert_exporter": "python",
   "pygments_lexer": "ipython3",
   "version": "3.10.12"
  }
 },
 "nbformat": 4,
 "nbformat_minor": 2
}
