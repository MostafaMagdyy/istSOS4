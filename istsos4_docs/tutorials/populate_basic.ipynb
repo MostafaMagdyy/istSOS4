{
 "cells": [
  {
   "cell_type": "code",
   "execution_count": 1,
   "id": "84f5c13e-78bf-4da0-9162-8381f358d340",
   "metadata": {},
   "outputs": [],
   "source": [
    "%load_ext autoreload\n",
    "%autoreload 2"
   ]
  },
  {
   "cell_type": "code",
   "execution_count": 2,
   "id": "1df92c54-77ba-4903-b6d5-213ae200972f",
   "metadata": {},
   "outputs": [],
   "source": [
    "import istsos4_utils as st\n",
    "from pprint import pprint\n"
   ]
  },
  {
   "cell_type": "code",
   "execution_count": 3,
   "id": "20bf0dc0-3f7d-400b-b311-53f56506a42d",
   "metadata": {},
   "outputs": [],
   "source": [
    "meteo = st.sta('http://api:5000/istsos4/v1.1/')"
   ]
  },
  {
   "cell_type": "code",
   "execution_count": 4,
   "id": "98acd6a3-3564-4287-a809-27b9ea940a50",
   "metadata": {},
   "outputs": [
    {
     "name": "stderr",
     "output_type": "stream",
     "text": [
      "INFO:root:query_api request: http://api:5000/istsos4/v1.1/FeaturesOfInterest\n"
     ]
    }
   ],
   "source": [
    "foi = meteo.query_api('FeaturesOfInterest')"
   ]
  },
  {
   "cell_type": "code",
   "execution_count": 8,
   "id": "7d74ccb5-4403-497b-8e44-53357a9ee9f6",
   "metadata": {},
   "outputs": [
    {
     "name": "stderr",
     "output_type": "stream",
     "text": [
      "INFO:root:query_api request: http://api:5000/istsos4/v1.1/Things\n"
     ]
    }
   ],
   "source": [
    "things = meteo.query_api('Things','$expand=Location')"
   ]
  },
  {
   "cell_type": "code",
   "execution_count": 9,
   "id": "5b7503b4-cc20-47d3-af00-1119877e2150",
   "metadata": {},
   "outputs": [
    {
     "name": "stdout",
     "output_type": "stream",
     "text": [
      "{'@iot.id': 1,\n",
      " '@iot.selfLink': 'http://api:5000/istsos4/v1.1/FeaturesOfInterest(1)',\n",
      " 'Observations@iot.navigationLink': 'http://api:5000/istsos4/v1.1/FeaturesOfInterest(1)/Observations',\n",
      " 'description': 'featuresofinterest 1',\n",
      " 'encodingType': 'application/pdf',\n",
      " 'feature': {'coordinates': [-73.987, 40.766], 'type': 'Point'},\n",
      " 'name': 'featuresofinterest name 1',\n",
      " 'properties': None}\n"
     ]
    }
   ],
   "source": [
    "pprint(foi[0])"
   ]
  },
  {
   "cell_type": "code",
   "execution_count": 10,
   "id": "6ca16e5f-35ba-4356-b2d5-dc80b809adbd",
   "metadata": {},
   "outputs": [
    {
     "name": "stdout",
     "output_type": "stream",
     "text": [
      "{'@iot.id': 1,\n",
      " '@iot.selfLink': 'http://api:5000/istsos4/v1.1/Things(1)',\n",
      " 'Datastreams@iot.navigationLink': 'http://api:5000/istsos4/v1.1/Things(1)/Datastreams',\n",
      " 'HistoricalLocations@iot.navigationLink': 'http://api:5000/istsos4/v1.1/Things(1)/HistoricalLocations',\n",
      " 'Locations@iot.navigationLink': 'http://api:5000/istsos4/v1.1/Things(1)/Locations',\n",
      " 'description': 'thing 1',\n",
      " 'name': 'thing name 1',\n",
      " 'properties': {'reference': '1'}}\n"
     ]
    }
   ],
   "source": [
    "pprint(things[0])"
   ]
  },
  {
   "cell_type": "code",
   "execution_count": null,
   "id": "c0fcffa1-3616-4d4e-be44-b3346a02cf22",
   "metadata": {},
   "outputs": [],
   "source": []
  }
 ],
 "metadata": {
  "kernelspec": {
   "display_name": "Python 3 (ipykernel)",
   "language": "python",
   "name": "python3"
  },
  "language_info": {
   "codemirror_mode": {
    "name": "ipython",
    "version": 3
   },
   "file_extension": ".py",
   "mimetype": "text/x-python",
   "name": "python",
   "nbconvert_exporter": "python",
   "pygments_lexer": "ipython3",
   "version": "3.11.9"
  }
 },
 "nbformat": 4,
 "nbformat_minor": 5
}
