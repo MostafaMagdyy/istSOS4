{
 "cells": [
  {
   "cell_type": "code",
   "execution_count": null,
   "id": "84f5c13e-78bf-4da0-9162-8381f358d340",
   "metadata": {},
   "outputs": [],
   "source": [
    "%load_ext autoreload\n",
    "%autoreload 2\n",
    "import requests\n",
    "\n",
    "import requests\n",
    "import json\n",
    "\n",
    "# base url\n",
    "base_url = \"http://api:5000/istsos4/v1.1/\"\n",
    "\n",
    "# Headers (optional, but specifying Content-Type ensures proper handling of JSON data)\n",
    "headers = {\n",
    "    'Content-Type': 'application/json'\n",
    "}"
   ]
  },
  {
   "cell_type": "markdown",
   "id": "3f1ea178-ac07-47a5-8be5-f537c7fe564b",
   "metadata": {},
   "source": [
    "### Creation Order\n",
    "The SensorThingsAPI data schema has relations.  \n",
    "So to respect references among elements you have to follow a defined order in creating them.  \n",
    "The usual order is:\n",
    "\n",
    "1. Thing\n",
    "2. Location\n",
    "3. ObservedProperty\n",
    "4. Sensor\n",
    "5. Datastream\n",
    "6. Observation (+FeatureOfInterest)\n"
   ]
  },
  {
   "cell_type": "markdown",
   "id": "55fb99fb-bc82-402e-a45f-5a5c86a5badc",
   "metadata": {},
   "source": [
    "### Thing creation"
   ]
  },
  {
   "cell_type": "code",
   "execution_count": null,
   "id": "ddc5ed50-dcba-4721-8300-ebdc864f6005",
   "metadata": {},
   "outputs": [],
   "source": [
    "body = {\n",
    "  \"name\" : \"MAG_LOD4\",\n",
    "  \"description\" : \"Maggia river in Lodrino\",\n",
    "  \"properties\" : {\n",
    "    \"subcatchment\" : \"Maggia\",\n",
    "    \"subcatchment_area\" : 4000,\n",
    "    \"subcatchment_number\": 12345\n",
    "  }\n",
    "}\n",
    "\n",
    "# POST request with the JSON body\n",
    "response = requests.post(base_url + 'Things', data=json.dumps(body), headers=headers)"
   ]
  },
  {
   "cell_type": "code",
   "execution_count": null,
   "id": "eedd7d26-8d03-43b4-9abe-6b29ed1b0bb2",
   "metadata": {},
   "outputs": [],
   "source": [
    "# Check if the request was successful (status code 2xx)\n",
    "if response.status_code == 201:\n",
    "    print(\"Thing created successfully.\")\n",
    "    print(response.headers['location'])\n",
    "else:\n",
    "    print(f\"Error: {response.status_code}\")\n",
    "    print(response.text)"
   ]
  },
  {
   "cell_type": "code",
   "execution_count": null,
   "id": "ce50bbca-8957-4ede-ae91-fda43ecaa72b",
   "metadata": {},
   "outputs": [],
   "source": [
    "# Let's get the Things @iot.id usimng a regex to extract the number in parentheses\n",
    "import re\n",
    "match = re.search(r'\\((\\d+)\\)', response.headers['location'])\n",
    "\n",
    "if match:\n",
    "    things_id = int(match.group(1))\n",
    "    print(f\"Number extracted: {things_id}\")\n",
    "else:\n",
    "    print(\"No number found in parentheses.\")"
   ]
  },
  {
   "cell_type": "markdown",
   "id": "e9785800-edae-43d8-a897-da2cb5e03596",
   "metadata": {},
   "source": [
    "### Create an associated Location"
   ]
  },
  {
   "cell_type": "code",
   "execution_count": null,
   "id": "2cfe1971-d873-4276-bce3-9e7de3a3cc56",
   "metadata": {},
   "outputs": [],
   "source": [
    "body = {\n",
    "  \"name\": \"Location of the MAG_LOD gauge\",\n",
    "  \"description\": \"The gauge is located close to the bridge\",\n",
    "  \"properties\": {},\n",
    "  \"encodingType\": \"application/geo+json\",\n",
    "  \"location\": {\n",
    "    \"type\": \"Point\",\n",
    "    \"coordinates\": [8.10, 50.00]\n",
    "  },\n",
    "  \"Things\": [\n",
    "    { \"@iot.id\": things_id}\n",
    "  ]\n",
    "}\n",
    "\n",
    "print(json.dumps(body))\n",
    "\n",
    "# POST request with the JSON body\n",
    "response = requests.post(base_url + 'Locations', data=json.dumps(body), headers=headers)"
   ]
  },
  {
   "cell_type": "code",
   "execution_count": null,
   "id": "51ea3d02-3e2b-4ac9-8018-81d15f45f00c",
   "metadata": {},
   "outputs": [],
   "source": [
    "# Check if the request was successful (status code 2xx)\n",
    "if response.status_code == 201:\n",
    "    print(\"Location created successfully.\")\n",
    "    print(response.headers['location'])\n",
    "else:\n",
    "    print(f\"Error: {response.status_code}\")\n",
    "    print(response.text)"
   ]
  },
  {
   "cell_type": "code",
   "execution_count": null,
   "id": "7d74ccb5-4403-497b-8e44-53357a9ee9f6",
   "metadata": {},
   "outputs": [],
   "source": [
    "Things = meteo.query_api('Things','$expand=Locations')"
   ]
  },
  {
   "cell_type": "code",
   "execution_count": null,
   "id": "5b7503b4-cc20-47d3-af00-1119877e2150",
   "metadata": {},
   "outputs": [],
   "source": [
    "map = meteo.map_things(Things)"
   ]
  },
  {
   "cell_type": "code",
   "execution_count": null,
   "id": "6ca16e5f-35ba-4356-b2d5-dc80b809adbd",
   "metadata": {
    "scrolled": true
   },
   "outputs": [],
   "source": [
    "map"
   ]
  },
  {
   "cell_type": "code",
   "execution_count": null,
   "id": "c0fcffa1-3616-4d4e-be44-b3346a02cf22",
   "metadata": {},
   "outputs": [],
   "source": []
  }
 ],
 "metadata": {
  "kernelspec": {
   "display_name": "Python 3 (ipykernel)",
   "language": "python",
   "name": "python3"
  },
  "language_info": {
   "codemirror_mode": {
    "name": "ipython",
    "version": 3
   },
   "file_extension": ".py",
   "mimetype": "text/x-python",
   "name": "python",
   "nbconvert_exporter": "python",
   "pygments_lexer": "ipython3",
   "version": "3.11.9"
  }
 },
 "nbformat": 4,
 "nbformat_minor": 5
}
