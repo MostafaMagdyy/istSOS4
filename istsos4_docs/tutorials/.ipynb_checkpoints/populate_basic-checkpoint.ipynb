{
 "cells": [
  {
   "cell_type": "code",
   "execution_count": 2,
   "id": "84f5c13e-78bf-4da0-9162-8381f358d340",
   "metadata": {},
   "outputs": [
    {
     "name": "stdout",
     "output_type": "stream",
     "text": [
      "The autoreload extension is already loaded. To reload it, use:\n",
      "  %reload_ext autoreload\n"
     ]
    }
   ],
   "source": [
    "%load_ext autoreload\n",
    "%autoreload 2"
   ]
  },
  {
   "cell_type": "code",
   "execution_count": 3,
   "id": "1df92c54-77ba-4903-b6d5-213ae200972f",
   "metadata": {},
   "outputs": [],
   "source": [
    "import istsos4_utils as st"
   ]
  },
  {
   "cell_type": "code",
   "execution_count": 4,
   "id": "20bf0dc0-3f7d-400b-b311-53f56506a42d",
   "metadata": {},
   "outputs": [],
   "source": [
    "meteo = st.sta('http://api:5000/istsos4/v1.1/')"
   ]
  },
  {
   "cell_type": "code",
   "execution_count": 6,
   "id": "98acd6a3-3564-4287-a809-27b9ea940a50",
   "metadata": {},
   "outputs": [
    {
     "name": "stderr",
     "output_type": "stream",
     "text": [
      "INFO:root:query_api request: http://api:5000/istsos4/v1.1/FeaturesOfInterest\n"
     ]
    }
   ],
   "source": [
    "foi = meteo.query_api('FeaturesOfInterest')"
   ]
  }
 ],
 "metadata": {
  "kernelspec": {
   "display_name": "Python 3 (ipykernel)",
   "language": "python",
   "name": "python3"
  },
  "language_info": {
   "codemirror_mode": {
    "name": "ipython",
    "version": 3
   },
   "file_extension": ".py",
   "mimetype": "text/x-python",
   "name": "python",
   "nbconvert_exporter": "python",
   "pygments_lexer": "ipython3",
   "version": "3.11.9"
  }
 },
 "nbformat": 4,
 "nbformat_minor": 5
}
