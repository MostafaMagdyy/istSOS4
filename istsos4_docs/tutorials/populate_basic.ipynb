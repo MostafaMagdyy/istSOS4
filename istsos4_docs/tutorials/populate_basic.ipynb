{
 "cells": [
  {
   "cell_type": "code",
   "execution_count": 1,
   "id": "84f5c13e-78bf-4da0-9162-8381f358d340",
   "metadata": {},
   "outputs": [],
   "source": [
    "%load_ext autoreload\n",
    "%autoreload 2"
   ]
  },
  {
   "cell_type": "code",
   "execution_count": 2,
   "id": "1df92c54-77ba-4903-b6d5-213ae200972f",
   "metadata": {},
   "outputs": [],
   "source": [
    "import istsos4_utils as st\n",
    "from pprint import pprint\n"
   ]
  },
  {
   "cell_type": "code",
   "execution_count": 3,
   "id": "20bf0dc0-3f7d-400b-b311-53f56506a42d",
   "metadata": {},
   "outputs": [],
   "source": [
    "meteo = st.sta('http://api:5000/istsos4/v1.1/')"
   ]
  },
  {
   "cell_type": "code",
   "execution_count": 10,
   "id": "98acd6a3-3564-4287-a809-27b9ea940a50",
   "metadata": {},
   "outputs": [
    {
     "name": "stderr",
     "output_type": "stream",
     "text": [
      "INFO:root:query_api request: http://api:5000/istsos4/v1.1/FeaturesOfInterest\n"
     ]
    },
    {
     "name": "stdout",
     "output_type": "stream",
     "text": [
      "http://api:5000/istsos4/v1.1/FeaturesOfInterest None\n"
     ]
    }
   ],
   "source": [
    "foi = meteo.query_api('FeaturesOfInterest')"
   ]
  },
  {
   "cell_type": "code",
   "execution_count": 16,
   "id": "7d74ccb5-4403-497b-8e44-53357a9ee9f6",
   "metadata": {},
   "outputs": [
    {
     "name": "stderr",
     "output_type": "stream",
     "text": [
      "INFO:root:query_api request: http://api:5000/istsos4/v1.1/Things(1)?$expand=Locations\n"
     ]
    },
    {
     "ename": "KeyError",
     "evalue": "'value'",
     "output_type": "error",
     "traceback": [
      "\u001b[0;31m---------------------------------------------------------------------------\u001b[0m",
      "\u001b[0;31mKeyError\u001b[0m                                  Traceback (most recent call last)",
      "Cell \u001b[0;32mIn[16], line 1\u001b[0m\n\u001b[0;32m----> 1\u001b[0m \u001b[43mmeteo\u001b[49m\u001b[38;5;241;43m.\u001b[39;49m\u001b[43mquery_api\u001b[49m\u001b[43m(\u001b[49m\u001b[38;5;124;43m'\u001b[39;49m\u001b[38;5;124;43mThings(1)\u001b[39;49m\u001b[38;5;124;43m'\u001b[39;49m\u001b[43m,\u001b[49m\u001b[38;5;124;43m'\u001b[39;49m\u001b[38;5;124;43m$expand=Locations\u001b[39;49m\u001b[38;5;124;43m'\u001b[39;49m\u001b[43m)\u001b[49m\n",
      "File \u001b[0;32m~/work/istsos4_utils.py:59\u001b[0m, in \u001b[0;36msta.query_api\u001b[0;34m(self, entity, params)\u001b[0m\n\u001b[1;32m     57\u001b[0m \u001b[38;5;66;03m# Store results\u001b[39;00m\n\u001b[1;32m     58\u001b[0m response_json \u001b[38;5;241m=\u001b[39m response\u001b[38;5;241m.\u001b[39mjson()\n\u001b[0;32m---> 59\u001b[0m data \u001b[38;5;241m=\u001b[39m \u001b[43mresponse_json\u001b[49m\u001b[43m[\u001b[49m\u001b[38;5;124;43m\"\u001b[39;49m\u001b[38;5;124;43mvalue\u001b[39;49m\u001b[38;5;124;43m\"\u001b[39;49m\u001b[43m]\u001b[49m\n\u001b[1;32m     61\u001b[0m \u001b[38;5;66;03m# Loop over pages. get() returns None, which is \"falsey\", if nextLink doesn't exist.\u001b[39;00m\n\u001b[1;32m     62\u001b[0m \u001b[38;5;28;01mwhile\u001b[39;00m next_link \u001b[38;5;241m:=\u001b[39m response_json\u001b[38;5;241m.\u001b[39mget(\u001b[38;5;124m\"\u001b[39m\u001b[38;5;124m@iot.nextLink\u001b[39m\u001b[38;5;124m\"\u001b[39m):\n",
      "\u001b[0;31mKeyError\u001b[0m: 'value'"
     ]
    }
   ],
   "source": [
    "meteo.query_api('Things(1)','$expand=Locations')"
   ]
  },
  {
   "cell_type": "code",
   "execution_count": 6,
   "id": "5b7503b4-cc20-47d3-af00-1119877e2150",
   "metadata": {},
   "outputs": [
    {
     "name": "stdout",
     "output_type": "stream",
     "text": [
      "{'@iot.id': 1,\n",
      " '@iot.selfLink': 'http://api:5000/istsos4/v1.1/FeaturesOfInterest(1)',\n",
      " 'Observations@iot.navigationLink': 'http://api:5000/istsos4/v1.1/FeaturesOfInterest(1)/Observations',\n",
      " 'description': 'featuresofinterest 1',\n",
      " 'encodingType': 'application/geo+json',\n",
      " 'feature': {'coordinates': [-156.874292026, 86.311557114], 'type': 'Point'},\n",
      " 'name': 'featuresofinterest name 1',\n",
      " 'properties': None}\n"
     ]
    }
   ],
   "source": [
    "pprint(foi[0])"
   ]
  },
  {
   "cell_type": "code",
   "execution_count": 7,
   "id": "6ca16e5f-35ba-4356-b2d5-dc80b809adbd",
   "metadata": {},
   "outputs": [
    {
     "name": "stdout",
     "output_type": "stream",
     "text": [
      "{'@iot.id': 1,\n",
      " '@iot.selfLink': 'http://api:5000/istsos4/v1.1/Things(1)',\n",
      " 'Datastreams@iot.navigationLink': 'http://api:5000/istsos4/v1.1/Things(1)/Datastreams',\n",
      " 'HistoricalLocations@iot.navigationLink': 'http://api:5000/istsos4/v1.1/Things(1)/HistoricalLocations',\n",
      " 'Locations@iot.navigationLink': 'http://api:5000/istsos4/v1.1/Things(1)/Locations',\n",
      " 'description': 'thing 1',\n",
      " 'name': 'thing name 1',\n",
      " 'properties': {'reference': '1'}}\n"
     ]
    }
   ],
   "source": [
    "pprint(things[0])"
   ]
  },
  {
   "cell_type": "code",
   "execution_count": null,
   "id": "c0fcffa1-3616-4d4e-be44-b3346a02cf22",
   "metadata": {},
   "outputs": [],
   "source": []
  }
 ],
 "metadata": {
  "kernelspec": {
   "display_name": "Python 3 (ipykernel)",
   "language": "python",
   "name": "python3"
  },
  "language_info": {
   "codemirror_mode": {
    "name": "ipython",
    "version": 3
   },
   "file_extension": ".py",
   "mimetype": "text/x-python",
   "name": "python",
   "nbconvert_exporter": "python",
   "pygments_lexer": "ipython3",
   "version": "3.11.9"
  }
 },
 "nbformat": 4,
 "nbformat_minor": 5
}
