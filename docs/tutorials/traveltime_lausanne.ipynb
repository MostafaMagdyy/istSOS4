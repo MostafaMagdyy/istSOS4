{
 "cells": [
  {
   "cell_type": "code",
   "execution_count": null,
   "id": "2885101c",
   "metadata": {},
   "outputs": [],
   "source": [
    "%load_ext autoreload\n",
    "%autoreload 2"
   ]
  },
  {
   "cell_type": "markdown",
   "id": "9101ea69",
   "metadata": {},
   "source": [
    "## The Sensing Entities\n",
    "The entities of the SensorThings API's Sensing component are illustrated in the following figure.\n",
    "\n",
    "<img src=\"img/STA_schema.png\" width=\"800\">\n",
    "\n",
    "To maintain proper references between elements, you must create them in a specific order:\n",
    "\n",
    "1. Thing\n",
    "2. Location\n",
    "3. ObservedProperty\n",
    "4. Sensor\n",
    "5. Datastream\n",
    "6. Observation (+FeatureOfInterest)\n",
    "\n"
   ]
  },
  {
   "cell_type": "markdown",
   "id": "09e8057a-1844-4c98-b513-620b2d30f177",
   "metadata": {},
   "source": [
    "# STA API time-travel extension\n",
    "This extension assists istSTA users in accessing historical time travel data. It enables users to retrieve information from a web service as it appeared at a specific moment in time, using a new query parameter called **as_of**.\n",
    "\n",
    "Additionally, it introduces a new entity called Commit, which enables data lineage, allowing users to trace data changes. \n",
    "From a scientific perspective, this extension enables FAIR data management by allowing datasets to be permanently cited. This is achieved by using a combination of the service address (<font color='red'>in red</font>), the request that returns the dataset (<font color='green'>in green</font>), and the dataset's status at a specific time instant (<font color='orange'>in orange</font>) as a Persistent Identifier for reference.\n",
    "\n",
    "Example: <font color='red'>https://&lt;base_url&gt;/&lt;version&gt;/</font><font color='green'>&lt;entity&gt;?$expand=&lt;entity&gt;</font><font color='orange'>&\\$as_of=&lt;date_time&gt;</font>\n",
    "\n",
    "## Definition\n",
    "The *time-travel* extension adds the following optional query parameters to any STA request:\n",
    "\n",
    "| Parameter | Type               | Description                                                                       |\n",
    "| --------- | ------------------ | --------------------------------------------------------------------------------- |\n",
    "| *as_of*   | ISO 8601 date-time | a date-time parameter to specify the exact moment for which the data is requested |\n",
    "| *from_to* | ISO 8601 period    | a period parameter to specify the time interval for which the data is requested   |\n",
    "\n",
    "The *time-travel* extension introduces a new entity, Commit, with the following properties:\n",
    "\n",
    "| Properties     | Type               | Multiplicity and use | Description                                                                    |\n",
    "| -------------- | ------------------ | -------------------- | ------------------------------------------------------------------------------ |\n",
    "| *author*       | string             | One (mandatory)      | Authority, Username or User Profile Link                                       |\n",
    "| *encodingType* | string             | One (optional)       | The encoding type of the message (default is `text`).                          |\n",
    "| *message*      | string             | One (mandatory)      | Commit message detailing the scope, motivation, and method of the transaction. |\n",
    "| *actionType*   | string             | One (mandatory)      | The action typer that applied the modifications (INSERT, UPDATE or DELETE)     |\n",
    "| *date*         | ISO 8601 date-time | One (mandatory)      | A date-time that specifies the exact moment when the commit was executed.      |\n",
    "\n",
    "Commits are related to SensorThings API entities with a one-to-zero-or-one (1:0..1) relationship."
   ]
  },
  {
   "cell_type": "markdown",
   "id": "671193ce-a969-4dbb-a5b1-1b212af733f4",
   "metadata": {},
   "source": [
    "### Preliminary Steps\n",
    "\n",
    "This section contains the preliminary steps to set up the base URL, headers, and import necessary libraries."
   ]
  },
  {
   "cell_type": "code",
   "execution_count": null,
   "id": "2d0690c3",
   "metadata": {},
   "outputs": [],
   "source": [
    "!pip install saqc\n",
    "!pip install folium"
   ]
  },
  {
   "cell_type": "code",
   "execution_count": null,
   "id": "f124ebf0-10de-4db0-962b-1a7947d72c7d",
   "metadata": {},
   "outputs": [],
   "source": [
    "import json\n",
    "import utils as st\n",
    "from IPython.display import display, Markdown\n",
    "from datetime import datetime, timedelta\n",
    "import os\n",
    "import random\n",
    "import logging\n",
    "\n",
    "# LOG CONFIGURATIONS and FORMATTING\n",
    "DEFAULT_FORMAT = (\n",
    "    \"[%(levelname)1.1s %(asctime)s %(module)s:%(lineno)d] %(message)s\"\n",
    ")\n",
    "DEFAULT_FORMAT = \"[%(levelname)1.1s %(asctime)s] %(message)s\"\n",
    "formatter = logging.Formatter(fmt=DEFAULT_FORMAT)\n",
    "\n",
    "# Get the root logger\n",
    "root_logger = logging.getLogger()\n",
    "root_logger.setLevel(logging.INFO)  # Set the global logging level\n",
    "\n",
    "# Configure the console handler\n",
    "console_handler = logging.StreamHandler()\n",
    "console_handler.setLevel(logging.INFO)\n",
    "console_handler.setFormatter(formatter)\n",
    "\n",
    "# Add the handler to the root logger\n",
    "if not root_logger.handlers:  # Avoid adding multiple handlers\n",
    "    root_logger.addHandler(console_handler)\n",
    "# Reinitialize logging to enforce your configuration\n",
    "logging.getLogger().handlers = []  # Clear any existing handlers\n",
    "logging.basicConfig(\n",
    "    level=logging.DEBUG,\n",
    "    format=DEFAULT_FORMAT,\n",
    "    handlers=[console_handler],\n",
    ")\n",
    "# base url\n",
    "base_url = \"https://istsos.org/v4/v1.1/\""
   ]
  },
  {
   "cell_type": "code",
   "execution_count": null,
   "id": "ad90041b",
   "metadata": {},
   "outputs": [],
   "source": [
    "STA = st.sta(base_url, verbose=True)"
   ]
  },
  {
   "cell_type": "markdown",
   "id": "809635fd",
   "metadata": {},
   "source": [
    "### 1. Create an account and get the TOKEN\n",
    "\n",
    "Answer to the questions, better in lowercase. Please do not spaces or spacial chars like (e.g. *ç\" etc.)"
   ]
  },
  {
   "cell_type": "code",
   "execution_count": null,
   "id": "d040a3b3",
   "metadata": {},
   "outputs": [],
   "source": [
    "# Set your name to have a prefix to had to the station name\n",
    "username = input(\"Enter your username: \")\n",
    "password = input(\"Enter your password: \")\n",
    "uri = input(\"Enter your uri (e.g. ORCID): \")\n",
    "if STA.create_user(username, password, uri=uri, role=\"editor\"):\n",
    "    token_obj = STA.get_token(username, password)\n",
    "    logging.info(f\"Token expires at: {token_obj['expires_in']} s\")\n",
    "# Set the prefix\n",
    "prefix = username + \"-\"\n",
    "logging.info(\"Your station name will be prefixed with: \" + prefix)"
   ]
  },
  {
   "cell_type": "markdown",
   "id": "cc7b578a-b6fd-49d2-98e9-9e5bb4566fbc",
   "metadata": {},
   "source": [
    "### Creating multiple related entities with deep insert"
   ]
  },
  {
   "cell_type": "code",
   "execution_count": null,
   "id": "3b827acb",
   "metadata": {},
   "outputs": [],
   "source": [
    "# 46.504235, 8.509085\n",
    "# 46.507165, 8.513438\n",
    "\n",
    "coords = [\n",
    "    random.choice([8.509085, 8.513438]),\n",
    "    random.choice([46.504235, 46.507165]),\n",
    "]\n",
    "body = {\n",
    "    \"description\": \"Meteo station recording temperature, humidity, and pressure\",\n",
    "    \"name\": prefix + \"BED\",\n",
    "    \"properties\": {\n",
    "        \"keywords\": \"weather,station,temperature,humidity,pressure\",\n",
    "        \"description\": \"Meteo station recording temperature, humidity, and pressure\",\n",
    "    },\n",
    "    \"Locations\": [\n",
    "        {\n",
    "            \"description\": \"Location of the BED meteo station\",\n",
    "            \"name\": prefix + \"BED\",\n",
    "            \"location\": {\n",
    "                \"type\": \"Point\",\n",
    "                \"coordinates\": coords,\n",
    "            },\n",
    "            \"encodingType\": \"application/vnd.geo+json\",\n",
    "        }\n",
    "    ],\n",
    "    \"Datastreams\": [\n",
    "        {\n",
    "            \"unitOfMeasurement\": {\n",
    "                \"name\": prefix + \"Celsius degree\",\n",
    "                \"symbol\": \"°C\",\n",
    "                \"definition\": \"\",\n",
    "            },\n",
    "            \"description\": \"Temperature measurement\",\n",
    "            \"name\": prefix + \"T_BED\",\n",
    "            \"observationType\": \"\",\n",
    "            \"ObservedProperty\": {\n",
    "                \"name\": prefix + \"atmosphere:temperature\",\n",
    "                \"definition\": \"\",\n",
    "                \"description\": \"Air temperature\",\n",
    "            },\n",
    "            \"Sensor\": {\n",
    "                \"description\": \"Temperature sensor\",\n",
    "                \"name\": prefix + \"TempSensor\",\n",
    "                \"encodingType\": \"application/json\",\n",
    "                \"metadata\": '{\"brand\": \"SensorBrand\", \"type\": \"Temperature sensor\"}',\n",
    "            },\n",
    "        },\n",
    "        {\n",
    "            \"unitOfMeasurement\": {\n",
    "                \"name\": prefix + \"Percentage\",\n",
    "                \"symbol\": \"%\",\n",
    "                \"definition\": \"\",\n",
    "            },\n",
    "            \"description\": \"Humidity measurement\",\n",
    "            \"name\": prefix + \"H_BED\",\n",
    "            \"observationType\": \"\",\n",
    "            \"ObservedProperty\": {\n",
    "                \"name\": prefix + \"atmosphere:humidity\",\n",
    "                \"definition\": \"\",\n",
    "                \"description\": \"Air humidity\",\n",
    "            },\n",
    "            \"Sensor\": {\n",
    "                \"description\": \"Humidity sensor\",\n",
    "                \"name\": prefix + \"HumiditySensor\",\n",
    "                \"encodingType\": \"application/json\",\n",
    "                \"metadata\": '{\"brand\": \"SensorBrand\", \"type\": \"Humidity sensor\"}',\n",
    "            },\n",
    "        },\n",
    "        {\n",
    "            \"unitOfMeasurement\": {\n",
    "                \"name\": prefix + \"Millimiters\",\n",
    "                \"symbol\": \"mm\",\n",
    "                \"definition\": \"\",\n",
    "            },\n",
    "            \"description\": \"Pressure measurement\",\n",
    "            \"name\": prefix + \"P_BED\",\n",
    "            \"observationType\": \"\",\n",
    "            \"ObservedProperty\": {\n",
    "                \"name\": prefix + \"atmosphere:rain\",\n",
    "                \"definition\": \"\",\n",
    "                \"description\": \"Rain quantity\",\n",
    "            },\n",
    "            \"Sensor\": {\n",
    "                \"description\": \"Pluviometer sensor\",\n",
    "                \"name\": prefix + \"PluviometerSensor\",\n",
    "                \"encodingType\": \"application/json\",\n",
    "                \"metadata\": '{\"brand\": \"SensorBrand\", \"type\": \"Pluviometer sensor\"}',\n",
    "            },\n",
    "        },\n",
    "    ],\n",
    "}\n",
    "\n",
    "STA.create_thing(body, commit_message=\"Create the BED station\")"
   ]
  },
  {
   "cell_type": "markdown",
   "id": "6816dce1",
   "metadata": {},
   "source": [
    "### Insert Observations from CSV"
   ]
  },
  {
   "cell_type": "code",
   "execution_count": null,
   "id": "6edf5e36",
   "metadata": {},
   "outputs": [],
   "source": [
    "files = os.listdir(\"data\")\n",
    "for _file in files:\n",
    "    logging.info(\"data\" + os.sep + f\"{_file}\")\n",
    "    datastream_name = _file.split(\".\")[0]\n",
    "    dt = STA.query_api(\n",
    "        \"Datastreams\", {\"$filter\": f\"name eq '{prefix}{datastream_name}'\"}\n",
    "    )\n",
    "    STA.csv2sta(\"data\" + os.sep + f\"{_file}\", dt[0][\"@iot.id\"], max_rows=30000)"
   ]
  },
  {
   "cell_type": "code",
   "execution_count": null,
   "id": "f121b151",
   "metadata": {},
   "outputs": [],
   "source": [
    "# GET the things based on the prefix using the function startswith\n",
    "\n",
    "\n",
    "thing = STA.query_api(\n",
    "    \"Things\", {\"$filter\": f\"startswith(name,'{prefix}')\"}\n",
    ")\n",
    "thing_id = thing[0][\"@iot.id\"]\n",
    "json_data = (json.dumps(thing, indent=2))\n",
    "md = f\"```json\\n{json_data}\\n```\"\n",
    "display(Markdown(md))"
   ]
  },
  {
   "cell_type": "markdown",
   "id": "93c56546-311d-4c33-b012-c2cf2da1cb41",
   "metadata": {},
   "source": [
    "### Update with time-travel extension"
   ]
  },
  {
   "cell_type": "markdown",
   "id": "15a2e5e9-8efc-41f8-8492-cc56b55963ff",
   "metadata": {},
   "source": [
    "#### Retrieve Thing (With the as_of value set to the date of the request)"
   ]
  },
  {
   "cell_type": "markdown",
   "id": "7b397ede-dbc6-4926-a2ae-28b5b3e9ceff",
   "metadata": {},
   "source": [
    "#### Update Thing"
   ]
  },
  {
   "cell_type": "code",
   "execution_count": null,
   "id": "f740ef2c-6f70-4ae9-b98e-f49c8faf085d",
   "metadata": {},
   "outputs": [],
   "source": [
    "body = {\n",
    "    \"description\": \"Meteo station recording temperature, humidity, and rain\",\n",
    "    \"properties\": {\n",
    "      \"keywords\": \"weather,station,temperature,humidity,rain\",\n",
    "      \"description\": \"Meteo station recording temperature, humidity, and rain\"\n",
    "    }\n",
    "}\n",
    "datetime_update = datetime.now()\n",
    "STA.update_thing(thing_id, body, commit_message=\"updated description\")"
   ]
  },
  {
   "cell_type": "markdown",
   "id": "745c5911-cbf3-40b7-803d-b2e0746e4c1a",
   "metadata": {},
   "source": [
    "#### Retrieve Thing with Commit properties"
   ]
  },
  {
   "cell_type": "code",
   "execution_count": null,
   "id": "91f4fa0b-9a1c-436e-b712-e9e1b5a015c9",
   "metadata": {},
   "outputs": [],
   "source": [
    "r = STA.query_api(f\"Things({thing_id})\", {\"$expand\": \"Commit\"})\n",
    "md = f\"```json\\n{json.dumps(r, indent=2)}\\n```\"\n",
    "display(Markdown(md))"
   ]
  },
  {
   "cell_type": "markdown",
   "id": "10f73246-17e5-4da2-8e7f-78a65d4d9b73",
   "metadata": {},
   "source": [
    "#### Retrieve Thing at a specific instant (with the as_of value set to one minute prior to the update date)"
   ]
  },
  {
   "cell_type": "code",
   "execution_count": null,
   "id": "26070c20-71e3-4005-96c2-d3346f7701a0",
   "metadata": {},
   "outputs": [],
   "source": [
    "tmp_datetime = datetime_update - timedelta(hours=1, seconds=1)\n",
    "tmp_datetime = tmp_datetime.isoformat() + \"Z\"\n",
    "\n",
    "r = STA.query_api(\n",
    "    f\"Things({thing_id})\",\n",
    "    {\"$expand\": \"Commit\", \"$as_of\": tmp_datetime}\n",
    ")\n",
    "md = f\"```json\\n{json.dumps(r, indent=2)}\\n```\"\n",
    "display(Markdown(md))"
   ]
  },
  {
   "cell_type": "markdown",
   "id": "f03034aa",
   "metadata": {},
   "source": [
    "### FROM SensorThings API to Dataframe"
   ]
  },
  {
   "cell_type": "code",
   "execution_count": null,
   "id": "a0cd9b96",
   "metadata": {},
   "outputs": [],
   "source": [
    "# Copyright (c) 2024 SUPSI\n",
    "# \n",
    "# This software is released under the MIT License.\n",
    "# https://opensource.org/licenses/MIT\n",
    "\n",
    "dfs, qcs = STA.get_dfs_by_datastreams(f\"startswith(name,'{prefix}')\")"
   ]
  },
  {
   "cell_type": "markdown",
   "id": "8e67c630",
   "metadata": {},
   "source": [
    "### Plot Observations"
   ]
  },
  {
   "cell_type": "code",
   "execution_count": null,
   "id": "e18d0e80",
   "metadata": {},
   "outputs": [],
   "source": [
    "for df in dfs:\n",
    "    dfs[df].plot(\n",
    "        y=\"result\",\n",
    "        title=df,\n",
    "        figsize=(10, 4),\n",
    "        grid=True,\n",
    "        ylabel=f\"{dfs[df]['ylabel'][0]}\"\n",
    "    )"
   ]
  },
  {
   "cell_type": "markdown",
   "id": "33770093",
   "metadata": {},
   "source": [
    "### Some quality checks examples"
   ]
  },
  {
   "cell_type": "code",
   "execution_count": null,
   "id": "75feb361",
   "metadata": {},
   "outputs": [],
   "source": [
    "for _qc in qcs:\n",
    "    if \"-T_\" in _qc:\n",
    "        logging.info(f\"QC for {_qc} datastream temperature\")\n",
    "        qc = (\n",
    "            qcs[_qc]\n",
    "            .flagMissing(\"result\", flag=90) # flag missing values\n",
    "            .flagConstants(\"result\", thresh=0.1, window=\"1D\", flag=91) # flag constant values\n",
    "            .flagZScore(\"result\", window=\"1D\", flag=92) # flag z-score\n",
    "            .flagRange(\"result\", min=-20, max=50, flag=93) # flag range\n",
    "        )\n",
    "        dfs[_qc].loc[qc.flags[\"result\"] == 90, \"resultQuality\"] = 90\n",
    "        dfs[_qc].loc[qc.flags[\"result\"] == 91, \"resultQuality\"] = 91\n",
    "        dfs[_qc].loc[qc.flags[\"result\"] == 92, \"resultQuality\"] = 92\n",
    "        dfs[_qc].loc[qc.flags[\"result\"] == 93, \"resultQuality\"] = 93\n",
    "        qc.plot(\n",
    "            \"result\",\n",
    "            ax_kwargs={\n",
    "                \"ylabel\": f\"Temperature (°C)\",\n",
    "            },\n",
    "        )\n",
    "        dfs[_qc].update\n",
    "    elif \"-H_\" in _qc:\n",
    "        logging.info(f\"QC for {_qc} datastream humidity\")\n",
    "        qc = (\n",
    "            qcs[_qc]\n",
    "            .flagMissing(\"result\", flag=90)\n",
    "            .flagConstants(\"result\", thresh=0.1, window=\"1D\", flag=91)\n",
    "            .flagZScore(\"result\", window=\"1D\", flag=92)\n",
    "            .flagRange(\"result\", min=0, max=100, flag=93)\n",
    "        )\n",
    "        dfs[_qc].loc[qc.flags[\"result\"] == 90, \"resultQuality\"] = 90\n",
    "        dfs[_qc].loc[qc.flags[\"result\"] == 91, \"resultQuality\"] = 91\n",
    "        dfs[_qc].loc[qc.flags[\"result\"] == 92, \"resultQuality\"] = 92\n",
    "        dfs[_qc].loc[qc.flags[\"result\"] == 93, \"resultQuality\"] = 93\n",
    "        qc.plot(\n",
    "            \"result\",\n",
    "            ax_kwargs={\n",
    "                \"ylabel\": f\"Humidity (%)\",\n",
    "            },\n",
    "        )\n",
    "    else:\n",
    "        logging.info(f\"QC for {_qc} datastream rain\")\n",
    "        qc = (\n",
    "            qcs[_qc]\n",
    "            .flagMissing(\"result\", flag=90)\n",
    "            .flagRange(\"result\", min=0.2, max=0.2, flag=91)\n",
    "        )\n",
    "        dfs[_qc].loc[qc.flags[\"result\"] == 90, \"resultQuality\"] = 90\n",
    "        dfs[_qc].loc[qc.flags[\"result\"] == 91, \"resultQuality\"] = 91\n",
    "        qc.plot(\n",
    "            \"result\",\n",
    "            ax_kwargs={\n",
    "                # \"figsize\": (10, 4),\n",
    "                # \"grid\": True,\n",
    "                \"ylabel\": f\"Rain (mm)\",\n",
    "            },\n",
    "        )"
   ]
  },
  {
   "cell_type": "markdown",
   "id": "d1060d0d",
   "metadata": {},
   "source": [
    "### Plots quality flags for each Datastream"
   ]
  },
  {
   "cell_type": "code",
   "execution_count": null,
   "id": "4656b8b8",
   "metadata": {},
   "outputs": [],
   "source": [
    "for _df in dfs:\n",
    "    dfs[_df].plot(y=\"resultQuality\", title=_df, figsize=(10, 4), grid=True)"
   ]
  },
  {
   "cell_type": "markdown",
   "id": "453f472b",
   "metadata": {},
   "source": [
    "#### Update Observation outlier"
   ]
  },
  {
   "cell_type": "code",
   "execution_count": null,
   "id": "826da505",
   "metadata": {},
   "outputs": [],
   "source": [
    "datetime_obs_update = datetime.now()\n",
    "for df in dfs:\n",
    "    for row in dfs[df].loc[dfs[df][\"resultQuality\"]<100].itertuples():\n",
    "        body = {\n",
    "            \"resultQuality\": str(row[8])\n",
    "        }\n",
    "        STA.update_observation(\n",
    "            row[1],\n",
    "            body,\n",
    "            commit_message=\"Quality flagging\"\n",
    "        )\n",
    "    print(f\"Observations of Datastream {df} updated\")"
   ]
  },
  {
   "cell_type": "markdown",
   "id": "c1b49fb1-43fc-4c5c-930b-167a33c6619d",
   "metadata": {},
   "source": [
    "#### Retrieve Observation after update"
   ]
  },
  {
   "cell_type": "code",
   "execution_count": null,
   "id": "9b0e88ab-6923-4f48-bea3-78b6281b72e9",
   "metadata": {},
   "outputs": [],
   "source": [
    "\n",
    "for df in dfs:\n",
    "    for row in dfs[df].loc[dfs[df][\"resultQuality\"]<100].itertuples():\n",
    "        response = STA.query_api(f\"Observations({row[1]})?$expand=Commit\", travel_time=True)\n",
    "        json_data = json.dumps(response, indent=2)\n",
    "        md = f\"```json\\n{json_data}\\n```\"\n",
    "        display(Markdown(md))\n",
    "        break\n",
    "    break"
   ]
  },
  {
   "cell_type": "markdown",
   "id": "7e37485d-e5c7-4ae8-8e16-0829b5ea855c",
   "metadata": {},
   "source": [
    "#### Retrieve Observation outlier at a specific instant (with the as_of value set to one second prior to the update date)"
   ]
  },
  {
   "cell_type": "code",
   "execution_count": null,
   "id": "966afc6c-b203-4038-9c58-9549a312a8a8",
   "metadata": {},
   "outputs": [],
   "source": [
    "datetime_before_update = datetime_obs_update - timedelta(hours=1, seconds=1)\n",
    "datetime_before_update = datetime_before_update.isoformat() + \"Z\"\n",
    "for df in dfs:\n",
    "    for row in dfs[df].loc[dfs[df][\"resultQuality\"] < 100].itertuples():\n",
    "        response = STA.query_api(\n",
    "            f\"Observations({row[1]})?$expand=Commit&$as_of={datetime_before_update}\", travel_time=True\n",
    "        )\n",
    "        json_data = json.dumps(response, indent=2)\n",
    "        md = f\"```json\\n{json_data}\\n```\"\n",
    "        display(Markdown(md))\n",
    "        break\n",
    "    break"
   ]
  },
  {
   "cell_type": "markdown",
   "id": "4391d754-9786-4784-9bb9-896d6c4460fc",
   "metadata": {},
   "source": [
    "#### Plot Observations after update"
   ]
  },
  {
   "cell_type": "code",
   "execution_count": null,
   "id": "c9c34336-e040-4e0d-b87f-8e30072200a0",
   "metadata": {},
   "outputs": [],
   "source": [
    "for df in dfs:\n",
    "    dfs[df].loc[dfs[df][\"resultQuality\"] >= 100].plot(\n",
    "        y=\"result\",\n",
    "        title=df,\n",
    "        figsize=(10, 4),\n",
    "        grid=True,\n",
    "        ylabel=f\"{dfs[df]['ylabel'][0]}\",\n",
    "    )\n",
    "    dfs[df].loc[dfs[df][\"resultQuality\"] < 100].plot.scatter(\n",
    "        x=\"phenomenonTime\",\n",
    "        y=\"result\",\n",
    "        grid=True,\n",
    "    )"
   ]
  },
  {
   "cell_type": "markdown",
   "id": "bbec0322-84b5-4259-8154-9c4f62a7bf93",
   "metadata": {},
   "source": [
    "#### Retrieve Observation outlier within a time interval (between the date prior to the update and the date following it)"
   ]
  },
  {
   "cell_type": "code",
   "execution_count": null,
   "id": "41f2c42f-08ee-45ed-a562-b530d9981afc",
   "metadata": {},
   "outputs": [],
   "source": [
    "# response = requests.get(\n",
    "#     f\"{base_url}Observations?$filter=id eq {observation_id}&$from_to={datetime_before_update}, {datetime_obs_update}\"\n",
    "# )\n",
    "# json_data = json.dumps(response.json(), indent=2)\n",
    "# md = f\"```json\\n{json_data}\\n```\"\n",
    "# display(Markdown(md))\n",
    "\n",
    "datetime_obs_update_str = datetime.now().isoformat() + \"Z\"\n",
    "datetime_before_update = (datetime.now() - timedelta(hours=24, seconds=1)).isoformat() + \"Z\"\n",
    "for df in dfs:\n",
    "    for row in dfs[df].loc[dfs[df][\"resultQuality\"] < 100].itertuples():\n",
    "        response = STA.query_api(\n",
    "            f\"Observations?$filter=id eq {row[1]}&$from_to={datetime_before_update}/{datetime_obs_update_str}\",\n",
    "            travel_time=True,\n",
    "        )\n",
    "        json_data = json.dumps(response, indent=2)\n",
    "        md = f\"```json\\n{json_data}\\n```\"\n",
    "        display(Markdown(md))"
   ]
  },
  {
   "cell_type": "code",
   "execution_count": null,
   "id": "509c12c2",
   "metadata": {},
   "outputs": [],
   "source": [
    "# Copyright (c) 2024 SUPSI\n",
    "# \n",
    "# This software is released under the MIT License.\n",
    "# https://opensource.org/licenses/MIT\n",
    "\n"
   ]
  },
  {
   "cell_type": "code",
   "execution_count": null,
   "id": "9ab19b60",
   "metadata": {},
   "outputs": [],
   "source": [
    "\n",
    "STA.get_token(username, password)\n",
    "\n",
    "t = STA.query_api(\"Things?$expand=Locations\")\n",
    "STA.map_things(t)"
   ]
  }
 ],
 "metadata": {
  "kernelspec": {
   "display_name": "istsos4",
   "language": "python",
   "name": "python3"
  },
  "language_info": {
   "codemirror_mode": {
    "name": "ipython",
    "version": 3
   },
   "file_extension": ".py",
   "mimetype": "text/x-python",
   "name": "python",
   "nbconvert_exporter": "python",
   "pygments_lexer": "ipython3",
   "version": "3.10.12"
  }
 },
 "nbformat": 4,
 "nbformat_minor": 5
}
