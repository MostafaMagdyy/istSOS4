{
 "cells": [
  {
   "cell_type": "code",
   "execution_count": 2,
   "id": "84f5c13e-78bf-4da0-9162-8381f358d340",
   "metadata": {},
   "outputs": [
    {
     "name": "stdout",
     "output_type": "stream",
     "text": [
      "The autoreload extension is already loaded. To reload it, use:\n",
      "  %reload_ext autoreload\n"
     ]
    }
   ],
   "source": [
    "%load_ext autoreload\n",
    "%autoreload 2\n",
    "import requests\n",
    "\n",
    "import requests\n",
    "import json\n",
    "\n",
    "# base url\n",
    "base_url = \"http://api:5000/istsos4/v1.1/\"\n",
    "\n",
    "# Headers (optional, but specifying Content-Type ensures proper handling of JSON data)\n",
    "headers = {\n",
    "    'Content-Type': 'application/json'\n",
    "}"
   ]
  },
  {
   "cell_type": "markdown",
   "id": "3f1ea178-ac07-47a5-8be5-f537c7fe564b",
   "metadata": {},
   "source": [
    "### Creation Order\n",
    "The SensorThingsAPI data schema has relations.  \n",
    "So to respect references among elements you have to follow a defined order in creating them.  \n",
    "The usual order is:\n",
    "\n",
    "1. Thing\n",
    "2. Location\n",
    "3. ObservedProperty\n",
    "4. Sensor\n",
    "5. Datastream\n",
    "6. Observation (+FeatureOfInterest)\n"
   ]
  },
  {
   "cell_type": "markdown",
   "id": "55fb99fb-bc82-402e-a45f-5a5c86a5badc",
   "metadata": {},
   "source": [
    "### Thing creation"
   ]
  },
  {
   "cell_type": "code",
   "execution_count": 3,
   "id": "ddc5ed50-dcba-4721-8300-ebdc864f6005",
   "metadata": {},
   "outputs": [],
   "source": [
    "body = {\n",
    "  \"name\" : \"MAG_LOD6\",\n",
    "  \"description\" : \"Maggia river in Lodrino\",\n",
    "  \"properties\" : {\n",
    "    \"subcatchment\" : \"Maggia\",\n",
    "    \"subcatchment_area\" : 4000,\n",
    "    \"subcatchment_number\": 12345\n",
    "  }\n",
    "}\n",
    "\n",
    "# POST request with the JSON body\n",
    "response = requests.post(base_url + 'Things', data=json.dumps(body), headers=headers)"
   ]
  },
  {
   "cell_type": "code",
   "execution_count": 4,
   "id": "eedd7d26-8d03-43b4-9abe-6b29ed1b0bb2",
   "metadata": {},
   "outputs": [
    {
     "name": "stdout",
     "output_type": "stream",
     "text": [
      "Thing created successfully.\n",
      "http://api:5000/istsos4/v1.1/Things(33)\n"
     ]
    }
   ],
   "source": [
    "# Check if the request was successful (status code 2xx)\n",
    "if response.status_code == 201:\n",
    "    print(\"Thing created successfully.\")\n",
    "    print(response.headers['location'])\n",
    "else:\n",
    "    print(f\"Error: {response.status_code}\")\n",
    "    print(response.text)"
   ]
  },
  {
   "cell_type": "code",
   "execution_count": 5,
   "id": "ce50bbca-8957-4ede-ae91-fda43ecaa72b",
   "metadata": {},
   "outputs": [
    {
     "name": "stdout",
     "output_type": "stream",
     "text": [
      "Number extracted: 33\n"
     ]
    }
   ],
   "source": [
    "# Let's get the Things @iot.id usimng a regex to extract the number in parentheses\n",
    "import re\n",
    "match = re.search(r'\\((\\d+)\\)', response.headers['location'])\n",
    "\n",
    "if match:\n",
    "    things_id = int(match.group(1))\n",
    "    print(f\"Number extracted: {things_id}\")\n",
    "else:\n",
    "    print(\"No number found in parentheses.\")"
   ]
  },
  {
   "cell_type": "markdown",
   "id": "e9785800-edae-43d8-a897-da2cb5e03596",
   "metadata": {},
   "source": [
    "### Create an associated Location"
   ]
  },
  {
   "cell_type": "code",
   "execution_count": 8,
   "id": "2cfe1971-d873-4276-bce3-9e7de3a3cc56",
   "metadata": {},
   "outputs": [
    {
     "name": "stdout",
     "output_type": "stream",
     "text": [
      "{\"name\": \"Location of the MAG_LOD2 gauge\", \"description\": \"The gauge is located close to the bridge\", \"properties\": {}, \"encodingType\": \"application/geo+json\", \"location\": {\"type\": \"Point\", \"coordinates\": [8.1, 50.0]}, \"Things\": [{\"@iot.id\": 33}]}\n"
     ]
    }
   ],
   "source": [
    "body = {\n",
    "  \"name\": \"Location of the MAG_LOD2 gauge\",\n",
    "  \"description\": \"The gauge is located close to the bridge\",\n",
    "  \"properties\": {},\n",
    "  \"encodingType\": \"application/geo+json\",\n",
    "  \"location\": {\n",
    "    \"type\": \"Point\",\n",
    "    \"coordinates\": [8.10, 50.00]\n",
    "  },\n",
    "  \"Things\": [\n",
    "    { \"@iot.id\": things_id}\n",
    "  ]\n",
    "}\n",
    "\n",
    "print(json.dumps(body))\n",
    "\n",
    "# POST request with the JSON body\n",
    "response = requests.post(base_url + 'Locations', data=json.dumps(body), headers=headers)"
   ]
  },
  {
   "cell_type": "code",
   "execution_count": 9,
   "id": "51ea3d02-3e2b-4ac9-8018-81d15f45f00c",
   "metadata": {},
   "outputs": [
    {
     "name": "stdout",
     "output_type": "stream",
     "text": [
      "Location created successfully.\n",
      "http://api:5000/istsos4/v1.1/Locations(14)\n"
     ]
    }
   ],
   "source": [
    "# Check if the request was successful (status code 2xx)\n",
    "if response.status_code == 201:\n",
    "    print(\"Location created successfully.\")\n",
    "    print(response.headers['location'])\n",
    "else:\n",
    "    print(f\"Error: {response.status_code}\")\n",
    "    print(response.text)"
   ]
  },
  {
   "cell_type": "code",
   "execution_count": 10,
   "id": "85f5dd3f-67cb-4d43-bf55-c1604b495771",
   "metadata": {},
   "outputs": [
    {
     "name": "stdout",
     "output_type": "stream",
     "text": [
      "http://api:5000/istsos4/v1.1/Things(33)?$expand=Locations\n"
     ]
    }
   ],
   "source": [
    "print(f\"{base_url}Things({things_id})?$expand=Locations\")"
   ]
  },
  {
   "cell_type": "code",
   "execution_count": 11,
   "id": "c0fcffa1-3616-4d4e-be44-b3346a02cf22",
   "metadata": {},
   "outputs": [
    {
     "name": "stdout",
     "output_type": "stream",
     "text": [
      "{'@iot.id': 33,\n",
      " '@iot.selfLink': 'http://api:5000/istsos4/v1.1/Things(33)',\n",
      " 'Datastreams@iot.navigationLink': 'http://api:5000/istsos4/v1.1/Things(33)/Datastreams',\n",
      " 'HistoricalLocations@iot.navigationLink': 'http://api:5000/istsos4/v1.1/Things(33)/HistoricalLocations',\n",
      " 'Locations': [{'@iot.id': 14,\n",
      "                '@iot.selfLink': 'http://api:5000/istsos4/v1.1/Locations(14)',\n",
      "                'description': 'The gauge is located close to the bridge',\n",
      "                'encodingType': 'application/geo+json',\n",
      "                'location': {'coordinates': [8.1, 50], 'type': 'Point'},\n",
      "                'name': 'Location of the MAG_LOD2 gauge',\n",
      "                'properties': {}}],\n",
      " 'Locations@iot.navigationLink': 'http://api:5000/istsos4/v1.1/Things(33)/Locations',\n",
      " 'description': 'Maggia river in Lodrino',\n",
      " 'name': 'MAG_LOD6',\n",
      " 'properties': {'subcatchment': 'Maggia',\n",
      "                'subcatchment_area': 4000,\n",
      "                'subcatchment_number': 12345}}\n"
     ]
    }
   ],
   "source": [
    "from pprint import pprint\n",
    "response = requests.get(f\"{base_url}Things({things_id})?$expand=Locations\")\n",
    "pprint(response.json())"
   ]
  },
  {
   "cell_type": "code",
   "execution_count": null,
   "id": "41a89f9a-647a-402a-8d71-061e52053e85",
   "metadata": {},
   "outputs": [],
   "source": []
  }
 ],
 "metadata": {
  "kernelspec": {
   "display_name": "Python 3 (ipykernel)",
   "language": "python",
   "name": "python3"
  },
  "language_info": {
   "codemirror_mode": {
    "name": "ipython",
    "version": 3
   },
   "file_extension": ".py",
   "mimetype": "text/x-python",
   "name": "python",
   "nbconvert_exporter": "python",
   "pygments_lexer": "ipython3",
   "version": "3.11.9"
  }
 },
 "nbformat": 4,
 "nbformat_minor": 5
}
